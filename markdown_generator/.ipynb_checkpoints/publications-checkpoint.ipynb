{
 "cells": [
  {
   "cell_type": "markdown",
   "metadata": {},
   "source": [
    "# Publications markdown generator for academicpages\n",
    "\n",
    "Takes a TSV of publications with metadata and converts them for use with [academicpages.github.io](academicpages.github.io). This is an interactive Jupyter notebook ([see more info here](http://jupyter-notebook-beginner-guide.readthedocs.io/en/latest/what_is_jupyter.html)). The core python code is also in `publications.py`. Run either from the `markdown_generator` folder after replacing `publications.tsv` with one containing your data.\n",
    "\n",
    "TODO: Make this work with BibTex and other databases of citations, rather than Stuart's non-standard TSV format and citation style.\n"
   ]
  },
  {
   "cell_type": "markdown",
   "metadata": {},
   "source": [
    "## Data format\n",
    "\n",
    "The TSV needs to have the following columns: pub_date, title, venue, excerpt, citation, site_url, and paper_url, with a header at the top. \n",
    "\n",
    "- `excerpt` and `paper_url` can be blank, but the others must have values. \n",
    "- `pub_date` must be formatted as YYYY-MM-DD.\n",
    "- `url_slug` will be the descriptive part of the .md file and the permalink URL for the page about the paper. The .md file will be `YYYY-MM-DD-[url_slug].md` and the permalink will be `https://[yourdomain]/publications/YYYY-MM-DD-[url_slug]`\n",
    "\n",
    "This is how the raw file looks (it doesn't look pretty, use a spreadsheet or other program to edit and create)."
   ]
  },
  {
   "cell_type": "code",
   "execution_count": 1,
   "metadata": {
    "ExecuteTime": {
     "end_time": "2023-04-14T10:58:38.349174Z",
     "start_time": "2023-04-14T10:58:38.211896Z"
    }
   },
   "outputs": [
    {
     "name": "stdout",
     "output_type": "stream",
     "text": [
      "pub_date\ttitle\tvenue\texcerpt\tcitation\turl_slug\tpaper_url\r\n",
      "2018-04-16\tDiscrete disorder models for many-body localization\tPhysical Review B\tUsing exact diagonalization technique, we investigate the many-body localization phenomenon in the 1D Heisenberg chain comparing several disorder models. In particular we consider a family of discrete distributions of disorder strengths and compare the results with the standard uniform distribution. Both statistical properties of energy levels and the long time nonergodic behavior are discussed. The results for different discrete distributions are essentially identical to those obtained for the continuous distribution, provided the disorder strength is rescaled by the standard deviation of the random distribution. Only for the binary distribution significant deviations are observed.\tJakub Janarek, Dominique Delande, and Jakub Zakrzewski, Phys. Rev. B 97, 155133 (2018).     paper1   \thttps://arxiv.org/pdf/1712.03776.pdf\r\n",
      "2020-07-06\tQuantum boomerang effect for interacting particles\tPhysical Review A\tWhen a quantum particle is launched with a finite velocity in a disordered potential, it may surprisingly come back to its initial position at long times and remain there forever. This phenomenon, dubbed “quantum boomerang effect,” was introduced in Prat et al.[Prat, Delande, and Cherroret, Quantum boomeranglike effect of wave packets in random media, Phys. Rev. A 99, 023629 (2019)]. Interactions between particles, treated within the mean-field approximation, are shown to partially destroy the boomerang effect: the center of mass of the wave packet makes a U turn, but does not completely come back to its initial position. We show that this phenomenon can be quantitatively interpreted using a single parameter, the average interaction energy.\tJakub Janarek, Dominique Delande, Nicolas Cherroret, and Jakub Zakrzewski, Phys. Rev. A 102, 013303 (2020).     paper2\t  https://arxiv.org/pdf/2003.09903\r\n",
      "2022-05-26\tQuantum boomerang effect in systems without time-reversal symmetry\tPhysical Review B\tIn an Anderson localized system, a quantum particle with a nonzero initial velocity returns, on average, to its origin. This recently discovered behavior is known as the quantum boomerang effect. Time-reversal invariance was initially thought to be a necessary condition for the existence of this phenomenon. We theoretically analyze the impact of the symmetry breaking on the phenomenon using a one-dimensional system with a spin-orbit coupling and show that the time-reversal invariance is not necessary for the boomerang effect to occur. We explain this behavior giving sufficient symmetry conditions for the boomerang effect to occur when time-reversal symmetry is broken.    \tJakub Janarek, Benoît Grémaud, Jakub Zakrzewski, and Dominique Delande, Phys. Rev. B 105, L180202 (2022)\tpaper3  \thttps://arxiv.org/pdf/2203.11019\r\n",
      "2023-03-16  Many-body quantum boomerang effect Physical Review B We study numerically the impact of many-body interactions on the quantum boomerang effect. We consider various cases: weakly interacting bosons, the Tonks-Girardeau gas, and strongly interacting bosons (which may be mapped onto weakly interacting fermions). Numerical simulations are performed using the time-evolving block decimation algorithm, a quasiexact method based on matrix product states. In the case of weakly interacting bosons, we find a partial destruction of the quantum boomerang effect, in agreement with the earlier mean-field study [J. Janarek et al., Phys. Rev. A 102, 013303 (2020)]. For the Tonks-Girardeau gas, we show the presence of the full quantum boomerang effect. For strongly interacting bosons, we observe a partial boomerang effect. We show that the destruction of the quantum boomerang effect is universal and does not depend on the details of the interaction between particles.     Jakub Janarek, Jakub Zakrzewski, and Dominique Delande, Phys. Rev. B 107, 094204 (2023).    paper4     https://arxiv.org/pdf/2211.01870\r\n",
      "2023-03-30  How do strokes affect the brain's critical state? Structural and functional aspects of the loss of connectome integrity     Scientific Reports (in-review)      This paper addresses the problem of the brain’s critical behavior in the case of a brain injury such as a stroke. Employing network models to sim- ulate the post-stroke brain, we demonstrate that an anomalous behavior of the critical characteristics, the second-largest cluster size, results from the loss of integrity of the network, quantified within the graph theory, and not from genuine non-critical behavior. Thus, even in a post-stroke state, the brain dynamics remain critical. The proposed interpretation of the results is confirmed with the analysis of the real connectomes acquired from post-stroke patients and the control group. The results presented refer to neurobiological data; however, the conclusions reached apply to a broad class of complex systems for which a critical state is identified.    Jakub Janarek, Zbigniew Drogosz, Jacek Grela, Jeremi Ochab, Paweł Oświęcimka, in-review  paper5  https://www.researchsquare.com/article/rs-2705640/latest.pdf"
     ]
    }
   ],
   "source": [
    "!cat publications.tsv"
   ]
  },
  {
   "cell_type": "markdown",
   "metadata": {},
   "source": [
    "## Import pandas\n",
    "\n",
    "We are using the very handy pandas library for dataframes."
   ]
  },
  {
   "cell_type": "code",
   "execution_count": 2,
   "metadata": {
    "ExecuteTime": {
     "end_time": "2023-04-14T10:58:47.683468Z",
     "start_time": "2023-04-14T10:58:45.305849Z"
    }
   },
   "outputs": [],
   "source": [
    "import pandas as pd"
   ]
  },
  {
   "cell_type": "markdown",
   "metadata": {},
   "source": [
    "## Import TSV\n",
    "\n",
    "Pandas makes this easy with the read_csv function. We are using a TSV, so we specify the separator as a tab, or `\\t`.\n",
    "\n",
    "I found it important to put this data in a tab-separated values format, because there are a lot of commas in this kind of data and comma-separated values can get messed up. However, you can modify the import statement, as pandas also has read_excel(), read_json(), and others."
   ]
  },
  {
   "cell_type": "code",
   "execution_count": 19,
   "metadata": {
    "ExecuteTime": {
     "end_time": "2023-04-14T11:07:37.260470Z",
     "start_time": "2023-04-14T11:07:37.242153Z"
    }
   },
   "outputs": [
    {
     "data": {
      "text/html": [
       "<div>\n",
       "<style scoped>\n",
       "    .dataframe tbody tr th:only-of-type {\n",
       "        vertical-align: middle;\n",
       "    }\n",
       "\n",
       "    .dataframe tbody tr th {\n",
       "        vertical-align: top;\n",
       "    }\n",
       "\n",
       "    .dataframe thead th {\n",
       "        text-align: right;\n",
       "    }\n",
       "</style>\n",
       "<table border=\"1\" class=\"dataframe\">\n",
       "  <thead>\n",
       "    <tr style=\"text-align: right;\">\n",
       "      <th></th>\n",
       "      <th>pub_date</th>\n",
       "      <th>title</th>\n",
       "      <th>venue</th>\n",
       "      <th>excerpt</th>\n",
       "      <th>citation</th>\n",
       "      <th>url_slug</th>\n",
       "      <th>paper_url</th>\n",
       "    </tr>\n",
       "  </thead>\n",
       "  <tbody>\n",
       "    <tr>\n",
       "      <th>0</th>\n",
       "      <td>2018-04-16</td>\n",
       "      <td>Discrete disorder models for many-body localiz...</td>\n",
       "      <td>Physical Review B</td>\n",
       "      <td>Using exact diagonalization technique, we inve...</td>\n",
       "      <td>Jakub Janarek, Dominique Delande, and Jakub Za...</td>\n",
       "      <td>paper1</td>\n",
       "      <td>https://arxiv.org/pdf/1712.03776.pdf</td>\n",
       "    </tr>\n",
       "    <tr>\n",
       "      <th>1</th>\n",
       "      <td>2020-07-06</td>\n",
       "      <td>Quantum boomerang effect for interacting parti...</td>\n",
       "      <td>Physical Review A</td>\n",
       "      <td>When a quantum particle is launched with a fin...</td>\n",
       "      <td>Jakub Janarek, Dominique Delande, Nicolas Cher...</td>\n",
       "      <td>paper2</td>\n",
       "      <td>https://arxiv.org/pdf/2003.09903</td>\n",
       "    </tr>\n",
       "    <tr>\n",
       "      <th>2</th>\n",
       "      <td>2022-05-26</td>\n",
       "      <td>Quantum boomerang effect in systems without ti...</td>\n",
       "      <td>Physical Review B</td>\n",
       "      <td>In an Anderson localized system, a quantum par...</td>\n",
       "      <td>Jakub Janarek, Benoît Grémaud, Jakub Zakrzewsk...</td>\n",
       "      <td>paper3</td>\n",
       "      <td>https://arxiv.org/pdf/2203.11019</td>\n",
       "    </tr>\n",
       "    <tr>\n",
       "      <th>3</th>\n",
       "      <td>2023-03-16</td>\n",
       "      <td>Many-body quantum boomerang effect</td>\n",
       "      <td>Physical Review B</td>\n",
       "      <td>We study numerically the impact of many-body i...</td>\n",
       "      <td>Jakub Janarek, Jakub Zakrzewski, and Dominique...</td>\n",
       "      <td>paper4</td>\n",
       "      <td>https://arxiv.org/pdf/2211.01870</td>\n",
       "    </tr>\n",
       "    <tr>\n",
       "      <th>4</th>\n",
       "      <td>2023-03-30</td>\n",
       "      <td>How do strokes affect the brain's critical sta...</td>\n",
       "      <td>Scientific Reports (in-review)</td>\n",
       "      <td>This paper addresses the problem of the brain’...</td>\n",
       "      <td>Jakub Janarek, Zbigniew Drogosz, Jacek Grela, ...</td>\n",
       "      <td>paper5</td>\n",
       "      <td>https://www.researchsquare.com/article/rs-2705...</td>\n",
       "    </tr>\n",
       "  </tbody>\n",
       "</table>\n",
       "</div>"
      ],
      "text/plain": [
       "     pub_date                                              title  \\\n",
       "0  2018-04-16  Discrete disorder models for many-body localiz...   \n",
       "1  2020-07-06  Quantum boomerang effect for interacting parti...   \n",
       "2  2022-05-26  Quantum boomerang effect in systems without ti...   \n",
       "3  2023-03-16                 Many-body quantum boomerang effect   \n",
       "4  2023-03-30  How do strokes affect the brain's critical sta...   \n",
       "\n",
       "                            venue  \\\n",
       "0               Physical Review B   \n",
       "1               Physical Review A   \n",
       "2               Physical Review B   \n",
       "3               Physical Review B   \n",
       "4  Scientific Reports (in-review)   \n",
       "\n",
       "                                             excerpt  \\\n",
       "0  Using exact diagonalization technique, we inve...   \n",
       "1  When a quantum particle is launched with a fin...   \n",
       "2  In an Anderson localized system, a quantum par...   \n",
       "3  We study numerically the impact of many-body i...   \n",
       "4  This paper addresses the problem of the brain’...   \n",
       "\n",
       "                                            citation url_slug  \\\n",
       "0  Jakub Janarek, Dominique Delande, and Jakub Za...   paper1   \n",
       "1  Jakub Janarek, Dominique Delande, Nicolas Cher...   paper2   \n",
       "2  Jakub Janarek, Benoît Grémaud, Jakub Zakrzewsk...   paper3   \n",
       "3  Jakub Janarek, Jakub Zakrzewski, and Dominique...   paper4   \n",
       "4  Jakub Janarek, Zbigniew Drogosz, Jacek Grela, ...   paper5   \n",
       "\n",
       "                                           paper_url  \n",
       "0               https://arxiv.org/pdf/1712.03776.pdf  \n",
       "1                   https://arxiv.org/pdf/2003.09903  \n",
       "2                   https://arxiv.org/pdf/2203.11019  \n",
       "3                   https://arxiv.org/pdf/2211.01870  \n",
       "4  https://www.researchsquare.com/article/rs-2705...  "
      ]
     },
     "execution_count": 19,
     "metadata": {},
     "output_type": "execute_result"
    }
   ],
   "source": [
    "publications = pd.read_csv(\"publications.tsv\", sep=\"\\t\", header=0)\n",
    "# publications = pd.read_csv(\"publications.tsv\", header=0)\n",
    "publications\n"
   ]
  },
  {
   "cell_type": "markdown",
   "metadata": {},
   "source": [
    "## Escape special characters\n",
    "\n",
    "YAML is very picky about how it takes a valid string, so we are replacing single and double quotes (and ampersands) with their HTML encoded equivilents. This makes them look not so readable in raw format, but they are parsed and rendered nicely."
   ]
  },
  {
   "cell_type": "code",
   "execution_count": 21,
   "metadata": {
    "ExecuteTime": {
     "end_time": "2023-04-14T11:07:51.474093Z",
     "start_time": "2023-04-14T11:07:51.468206Z"
    }
   },
   "outputs": [],
   "source": [
    "html_escape_table = {\n",
    "    \"&\": \"&amp;\",\n",
    "    '\"': \"&quot;\",\n",
    "    \"'\": \"&apos;\"\n",
    "    }\n",
    "\n",
    "def html_escape(text):\n",
    "    \"\"\"Produce entities within text.\"\"\"\n",
    "    return \"\".join(html_escape_table.get(c,c) for c in text)"
   ]
  },
  {
   "cell_type": "markdown",
   "metadata": {},
   "source": [
    "## Creating the markdown files\n",
    "\n",
    "This is where the heavy lifting is done. This loops through all the rows in the TSV dataframe, then starts to concatentate a big string (```md```) that contains the markdown for each type. It does the YAML metadata first, then does the description for the individual page."
   ]
  },
  {
   "cell_type": "code",
   "execution_count": 22,
   "metadata": {
    "ExecuteTime": {
     "end_time": "2023-04-14T11:07:59.219292Z",
     "start_time": "2023-04-14T11:07:59.198370Z"
    }
   },
   "outputs": [],
   "source": [
    "import os\n",
    "for row, item in publications.iterrows():\n",
    "    \n",
    "    md_filename = str(item.pub_date) + \"-\" + item.url_slug + \".md\"\n",
    "    html_filename = str(item.pub_date) + \"-\" + item.url_slug\n",
    "    year = item.pub_date[:4]\n",
    "    \n",
    "    ## YAML variables\n",
    "    \n",
    "    md = \"---\\ntitle: \\\"\"   + item.title + '\"\\n'\n",
    "    \n",
    "    md += \"\"\"collection: publications\"\"\"\n",
    "    \n",
    "    md += \"\"\"\\npermalink: /publication/\"\"\" + html_filename\n",
    "    \n",
    "    if len(str(item.excerpt)) > 5:\n",
    "        md += \"\\nexcerpt: '\" + html_escape(item.excerpt) + \"'\"\n",
    "    \n",
    "    md += \"\\ndate: \" + str(item.pub_date) \n",
    "    \n",
    "    md += \"\\nvenue: '\" + html_escape(item.venue) + \"'\"\n",
    "    \n",
    "    if len(str(item.paper_url)) > 5:\n",
    "        md += \"\\npaperurl: '\" + item.paper_url + \"'\"\n",
    "    \n",
    "    md += \"\\ncitation: '\" + html_escape(item.citation) + \"'\"\n",
    "    \n",
    "    md += \"\\n---\"\n",
    "    \n",
    "    ## Markdown description for individual page\n",
    "        \n",
    "    if len(str(item.excerpt)) > 5:\n",
    "        md += \"\\n\" + html_escape(item.excerpt) + \"\\n\"\n",
    "    \n",
    "    if len(str(item.paper_url)) > 5:\n",
    "        md += \"\\n[Download paper here](\" + item.paper_url + \")\\n\" \n",
    "        \n",
    "    md += \"\\nRecommended citation: \" + item.citation\n",
    "    \n",
    "    md_filename = os.path.basename(md_filename)\n",
    "       \n",
    "    with open(\"../_publications/\" + md_filename, 'w') as f:\n",
    "        f.write(md)"
   ]
  },
  {
   "cell_type": "markdown",
   "metadata": {},
   "source": [
    "These files are in the publications directory, one directory below where we're working from."
   ]
  },
  {
   "cell_type": "code",
   "execution_count": 24,
   "metadata": {
    "ExecuteTime": {
     "end_time": "2023-04-14T11:08:23.361779Z",
     "start_time": "2023-04-14T11:08:23.224792Z"
    }
   },
   "outputs": [
    {
     "name": "stdout",
     "output_type": "stream",
     "text": [
      "2009-10-01-paper-title-number-1.md 2020-07-06-paper2.md\r\n",
      "2010-10-01-paper-title-number-2.md 2022-05-26-paper3.md\r\n",
      "2015-10-01-paper-title-number-3.md 2023-03-16-paper4.md\r\n",
      "2018-04-16-paper1.md               2023-03-30-paper5.md\r\n"
     ]
    }
   ],
   "source": [
    "!ls ../_publications/"
   ]
  },
  {
   "cell_type": "code",
   "execution_count": 25,
   "metadata": {
    "ExecuteTime": {
     "end_time": "2023-04-14T11:08:59.156382Z",
     "start_time": "2023-04-14T11:08:59.020470Z"
    }
   },
   "outputs": [
    {
     "name": "stdout",
     "output_type": "stream",
     "text": [
      "---\r\n",
      "title: \"Paper Title Number 1\"\r\n",
      "collection: publications\r\n",
      "permalink: /publication/2009-10-01-paper-title-number-1\r\n",
      "excerpt: 'This paper is about the number 1. The number 2 is left for future work.'\r\n",
      "date: 2009-10-01\r\n",
      "venue: 'Journal 1'\r\n",
      "paperurl: 'http://academicpages.github.io/files/paper1.pdf'\r\n",
      "citation: 'Your Name, You. (2009). &quot;Paper Title Number 1.&quot; <i>Journal 1</i>. 1(1).'\r\n",
      "---\r\n",
      "This paper is about the number 1. The number 2 is left for future work.\r\n",
      "\r\n",
      "[Download paper here](http://academicpages.github.io/files/paper1.pdf)\r\n",
      "\r\n",
      "Recommended citation: Your Name, You. (2009). \"Paper Title Number 1.\" <i>Journal 1</i>. 1(1)."
     ]
    }
   ],
   "source": [
    "!cat ../_publications/2009-10-01-paper-title-number-1.md"
   ]
  },
  {
   "cell_type": "code",
   "execution_count": null,
   "metadata": {
    "collapsed": true
   },
   "outputs": [],
   "source": []
  }
 ],
 "metadata": {
  "kernelspec": {
   "display_name": "Python 3 (ipykernel)",
   "language": "python",
   "name": "python3"
  },
  "language_info": {
   "codemirror_mode": {
    "name": "ipython",
    "version": 3
   },
   "file_extension": ".py",
   "mimetype": "text/x-python",
   "name": "python",
   "nbconvert_exporter": "python",
   "pygments_lexer": "ipython3",
   "version": "3.9.10"
  }
 },
 "nbformat": 4,
 "nbformat_minor": 1
}
